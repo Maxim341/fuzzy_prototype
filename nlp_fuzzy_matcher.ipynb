{
 "cells": [
  {
   "cell_type": "markdown",
   "metadata": {},
   "source": [
    "# NLP Fuzzy matching protype code"
   ]
  },
  {
   "cell_type": "code",
   "execution_count": 17,
   "metadata": {},
   "outputs": [],
   "source": [
    "from pyspark.sql import SparkSession\n",
    "import pyspark.sql.functions as F"
   ]
  },
  {
   "cell_type": "code",
   "execution_count": 2,
   "metadata": {},
   "outputs": [
    {
     "name": "stderr",
     "output_type": "stream",
     "text": [
      "WARNING: An illegal reflective access operation has occurred\n",
      "WARNING: Illegal reflective access by org.apache.spark.unsafe.Platform (file:/Users/maxnethercott/python_env/my_env/lib/python3.9/site-packages/pyspark/jars/spark-unsafe_2.12-3.2.0.jar) to constructor java.nio.DirectByteBuffer(long,int)\n",
      "WARNING: Please consider reporting this to the maintainers of org.apache.spark.unsafe.Platform\n",
      "WARNING: Use --illegal-access=warn to enable warnings of further illegal reflective access operations\n",
      "WARNING: All illegal access operations will be denied in a future release\n",
      "Using Spark's default log4j profile: org/apache/spark/log4j-defaults.properties\n",
      "Setting default log level to \"WARN\".\n",
      "To adjust logging level use sc.setLogLevel(newLevel). For SparkR, use setLogLevel(newLevel).\n",
      "21/12/22 11:53:21 WARN NativeCodeLoader: Unable to load native-hadoop library for your platform... using builtin-java classes where applicable\n"
     ]
    }
   ],
   "source": [
    "spark = SparkSession.builder.appName(\"My NLP app\").getOrCreate()"
   ]
  },
  {
   "cell_type": "code",
   "execution_count": 3,
   "metadata": {},
   "outputs": [
    {
     "name": "stdout",
     "output_type": "stream",
     "text": [
      "+---------+---------+-----------+\n",
      "|namespace|tableName|isTemporary|\n",
      "+---------+---------+-----------+\n",
      "+---------+---------+-----------+\n",
      "\n"
     ]
    }
   ],
   "source": [
    "spark.sql(\"show tables in default\").show()"
   ]
  },
  {
   "cell_type": "code",
   "execution_count": 31,
   "metadata": {},
   "outputs": [
    {
     "name": "stderr",
     "output_type": "stream",
     "text": [
      "21/12/22 12:24:20 WARN CSVHeaderChecker: CSV header does not conform to the schema.\n",
      " Header: , , \n",
      " Schema: Product Family, Product, Platform\n",
      "Expected: Product Family but found: \n",
      "CSV file: file:///Users/maxnethercott/Documents/data_science_projects/nlp_sentence_matching/nlp_fuzzy_matcher.ipynb\n"
     ]
    },
    {
     "name": "stdout",
     "output_type": "stream",
     "text": [
      "+------------------+----------------------------------------------------------------+-----------------------------------------------+\n",
      "|product family    |product                                                         |platform                                       |\n",
      "+------------------+----------------------------------------------------------------+-----------------------------------------------+\n",
      "|Microsoft Office  |Microsoft SharePoint Server 2019                                |null                                           |\n",
      "|Developer Tools   |Microsoft Visual Studio 2017 version 15.9 (includes 15.0 - 15.8)|null                                           |\n",
      "|Browser           |Microsoft Edge (Chromium-based) in IE Mode                      |Windows 10 Version 1909 for ARM64-based Systems|\n",
      "|Browser           |Microsoft Edge (Chromium-based) in IE Mode                      |Windows 11 for ARM64-based Systems             |\n",
      "|Developer Tools   |Microsoft Visual Studio 2015 Update 3                           |null                                           |\n",
      "|Windows           |Windows 10 Version 1607 for 32-bit Systems                      |null                                           |\n",
      "|Apps              |App Installer                                                   |null                                           |\n",
      "|Windows           |Windows 10 Version 21H1 for 32-bit Systems                      |null                                           |\n",
      "|Windows           |Windows Server 2019                                             |null                                           |\n",
      "|Microsoft Dynamics|Microsoft Dynamics 365 (on-premises) version 9.0                |null                                           |\n",
      "+------------------+----------------------------------------------------------------+-----------------------------------------------+\n",
      "\n"
     ]
    }
   ],
   "source": [
    "cols = [\"product Family\", \"Product\", \"Platform\"]\n",
    "\n",
    "sdf = (spark.read.format(\"csv\").option(\"header\", True).load(\"/Users/maxnethercott/Documents/data_science_projects/nlp_sentence_matching/\")\n",
    "        .select([F.col(x).alias(x.lower().strip()) for x in cols]))\n",
    "\n",
    "\n",
    "sdf.distinct().limit(10).show(1000,False)\n"
   ]
  },
  {
   "cell_type": "code",
   "execution_count": null,
   "metadata": {},
   "outputs": [],
   "source": []
  }
 ],
 "metadata": {
  "interpreter": {
   "hash": "191b54cb9c8918ea78aed06b2ccc20751a6d0f6b9680d23be3a86acb8e9c19ef"
  },
  "kernelspec": {
   "display_name": "Python 3.8.3 64-bit ('base': conda)",
   "language": "python",
   "name": "python3"
  },
  "language_info": {
   "codemirror_mode": {
    "name": "ipython",
    "version": 3
   },
   "file_extension": ".py",
   "mimetype": "text/x-python",
   "name": "python",
   "nbconvert_exporter": "python",
   "pygments_lexer": "ipython3",
   "version": "3.9.9"
  },
  "orig_nbformat": 4
 },
 "nbformat": 4,
 "nbformat_minor": 2
}
