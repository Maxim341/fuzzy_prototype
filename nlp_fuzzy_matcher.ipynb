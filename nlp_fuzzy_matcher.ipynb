{
 "cells": [
  {
   "cell_type": "markdown",
   "metadata": {},
   "source": [
    "# NLP Fuzzy matching protype code"
   ]
  },
  {
   "cell_type": "code",
   "execution_count": 212,
   "metadata": {},
   "outputs": [],
   "source": [
    "from pyspark.sql import SparkSession\n",
    "import pyspark.sql.functions as F\n",
    "import pandas as pd\n",
    "import nltk\n",
    "from nltk.tokenize import word_tokenize\n",
    "from nltk.tokenize.treebank import TreebankWordDetokenizer\n",
    "import string\n",
    "from gensim.models.doc2vec import Doc2Vec, TaggedDocument\n",
    "from nltk.stem.porter import PorterStemmer"
   ]
  },
  {
   "cell_type": "code",
   "execution_count": 213,
   "metadata": {},
   "outputs": [],
   "source": [
    "# Columns we are interested in\n",
    "cols = [\"Product\", \"Platform\"]\n",
    "\n",
    "#Read data\n",
    "pdf = pd.read_csv(\"/Users/maxnethercott/Documents/data_science_projects/nlp_sentence_matching/fuzzy_prototype/ms_security_updates_csv.csv\")\n",
    "pdf = pdf[cols]\n",
    "pdf.columns = pdf.columns.str.lower()\n",
    "pdf = pdf.fillna(\"\")\n",
    "\n",
    "#Lower all pandas column values\n",
    "pdf = pdf.apply(lambda x: x.astype(str).str.lower())\n",
    "\n",
    "pdf['document'] = pdf[pdf.columns].agg('.'.join, axis=1)\n",
    "pdf.drop_duplicates(inplace=True)\n"
   ]
  },
  {
   "cell_type": "code",
   "execution_count": 214,
   "metadata": {},
   "outputs": [],
   "source": [
    "doc_list = pdf[\"document\"].tolist()\n",
    "tokenized_sents = [word_tokenize(i) for i in doc_list]\n",
    "\n",
    "#Filter out stopwords and punctuation...\n",
    "stop_words = set(nltk.corpus.stopwords.words(\"english\"))\n",
    "\n",
    "#Strip out stop words\n",
    "out = [[w for w in x if not w in list(stop_words)] for x in tokenized_sents]\n",
    "#Strip out punctuation\n",
    "out = [[s.translate(str.maketrans(\"\", \"\", string.punctuation)) for s in x] for x in out]\n",
    "\n",
    "#Use porter stemmer to get root word meaning... Seems to have a positive effect on accuracy\n",
    "porter = PorterStemmer()\n",
    "out = [[porter.stem(word) for word in x if word != '']  for x in out]\n",
    "\n",
    "#Detokenize\n",
    "detokenized_sents = [TreebankWordDetokenizer().detokenize(i) for i in out]\n",
    "data = list(set(detokenized_sents))"
   ]
  },
  {
   "cell_type": "code",
   "execution_count": 206,
   "metadata": {},
   "outputs": [
    {
     "name": "stdout",
     "output_type": "stream",
     "text": [
      "iteration 0\n",
      "iteration 1\n",
      "iteration 2\n",
      "iteration 3\n",
      "iteration 4\n",
      "iteration 5\n",
      "iteration 6\n",
      "iteration 7\n",
      "iteration 8\n",
      "iteration 9\n",
      "iteration 10\n",
      "iteration 11\n",
      "iteration 12\n",
      "iteration 13\n",
      "iteration 14\n",
      "iteration 15\n",
      "iteration 16\n",
      "iteration 17\n",
      "iteration 18\n",
      "iteration 19\n",
      "iteration 20\n",
      "iteration 21\n",
      "iteration 22\n",
      "iteration 23\n",
      "iteration 24\n",
      "iteration 25\n",
      "iteration 26\n",
      "iteration 27\n",
      "iteration 28\n",
      "iteration 29\n",
      "iteration 30\n",
      "iteration 31\n",
      "iteration 32\n",
      "iteration 33\n",
      "iteration 34\n",
      "iteration 35\n",
      "iteration 36\n",
      "iteration 37\n",
      "iteration 38\n",
      "iteration 39\n",
      "iteration 40\n",
      "iteration 41\n",
      "iteration 42\n",
      "iteration 43\n",
      "iteration 44\n",
      "iteration 45\n",
      "iteration 46\n",
      "iteration 47\n",
      "iteration 48\n",
      "iteration 49\n",
      "Model Saved\n"
     ]
    }
   ],
   "source": [
    "# Ready for model build\n",
    "\n",
    "def output_sentences(most_similar):\n",
    "    for label, index in [('MOST', 0), ('SECOND-MOST', 1), ('MEDIAN', len(most_similar)//2), ('LEAST', len(most_similar) - 1)]:\n",
    "      print(u'%s %s: %s\\n' % (label, most_similar[index][1], data[int(most_similar[index][0])]))\n",
    "\n",
    "tagged_data = [TaggedDocument(words=word_tokenize(_d.lower()), tags=[str(i)]) for i, _d in enumerate(data)]\n",
    "max_epochs = 50\n",
    "vec_size = 150\n",
    "alpha = 0.025\n",
    "\n",
    "model = Doc2Vec(vector_size=vec_size,\n",
    "                min_count=1,\n",
    "                dm =0,\n",
    "                window =1,\n",
    "                workers=4,\n",
    "                sample = 0)\n",
    "\n",
    "model.build_vocab(tagged_data)\n",
    "\n",
    "for epoch in range(max_epochs):\n",
    "    print('iteration {0}'.format(epoch))\n",
    "    model.train(tagged_data,\n",
    "                total_examples=model.corpus_count,\n",
    "                epochs=model.epochs)\n",
    "    # decrease the learning rate\n",
    "    model.alpha -= 0.0002\n",
    "    # fix the learning rate, no decay\n",
    "    model.min_alpha = model.alpha\n",
    "\n",
    "model.save(\"d2v.model\")\n",
    "print(\"Model Saved\")"
   ]
  },
  {
   "cell_type": "code",
   "execution_count": 246,
   "metadata": {},
   "outputs": [
    {
     "name": "stdout",
     "output_type": "stream",
     "text": [
      "[('92', 0.7498161792755127), ('44', 0.7011606097221375), ('38', 0.6813647150993347), ('77', 0.6766282916069031), ('91', 0.6676088571548462), ('80', 0.6662470102310181), ('26', 0.6650609970092773), ('112', 0.6443572640419006), ('124', 0.6308926343917847), ('82', 0.6238003373146057)]\n",
      "MOST 0.7498161792755127: microsoft word 2016 64bit edit\n",
      "\n",
      "SECOND-MOST 0.7011606097221375: window server 2012 r2\n",
      "\n",
      "MEDIAN 0.6662470102310181: microsoft word 2013 servic pack 1 64bit edit\n",
      "\n",
      "LEAST 0.6238003373146057: window server 2012 server core instal\n",
      "\n"
     ]
    }
   ],
   "source": [
    "model= Doc2Vec.load(\"d2v.model\")\n",
    "#to find the vector of a document which is not in training data\n",
    "test_data = word_tokenize(\"microsoft word 2012\".lower())\n",
    "test_data = [porter.stem(word) for word in test_data]\n",
    "v1 = model.infer_vector(test_data)\n",
    "#print(\"V1_infer\", v1)\n",
    "\n",
    "# to find most similar doc using tags\n",
    "similar_doc = model.dv.most_similar([v1])\n",
    "print(similar_doc)\n",
    "\n",
    "# to print similar sentences\n",
    "output_sentences(similar_doc) \n",
    "\n",
    "# to find vector of doc in training data using tags or in other words, printing the vector of document at index 1 in training data\n",
    "#print(model.dv['1'])"
   ]
  },
  {
   "cell_type": "code",
   "execution_count": null,
   "metadata": {},
   "outputs": [],
   "source": []
  }
 ],
 "metadata": {
  "interpreter": {
   "hash": "191b54cb9c8918ea78aed06b2ccc20751a6d0f6b9680d23be3a86acb8e9c19ef"
  },
  "kernelspec": {
   "display_name": "Python 3.8.3 64-bit ('base': conda)",
   "language": "python",
   "name": "python3"
  },
  "language_info": {
   "codemirror_mode": {
    "name": "ipython",
    "version": 3
   },
   "file_extension": ".py",
   "mimetype": "text/x-python",
   "name": "python",
   "nbconvert_exporter": "python",
   "pygments_lexer": "ipython3",
   "version": "3.9.9"
  },
  "orig_nbformat": 4
 },
 "nbformat": 4,
 "nbformat_minor": 2
}
